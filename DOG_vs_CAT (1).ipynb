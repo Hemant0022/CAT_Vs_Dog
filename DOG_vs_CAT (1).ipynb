{
  "nbformat": 4,
  "nbformat_minor": 0,
  "metadata": {
    "colab": {
      "provenance": []
    },
    "kernelspec": {
      "name": "python3",
      "display_name": "Python 3"
    },
    "language_info": {
      "name": "python"
    }
  },
  "cells": [
    {
      "cell_type": "code",
      "execution_count": 1,
      "metadata": {
        "id": "xCp65zhAl4-H"
      },
      "outputs": [],
      "source": [
        "#importing libraires\n",
        "#Data preprocessing\n",
        "#Build CNN model: a.  Intialize the CNN\n",
        "                  #b.Convolution\n",
        "                  #c.Pooling(Step B and c  to be repeated for each layer)\n",
        "                  #d. Flattening\n",
        "                  #e. Full connection\n",
        "                  #f. O/p layer of this CNN\n",
        "# Training the CNN\n",
        "# Compile\n",
        "# Evaluate\n",
        "\n",
        "\n",
        "#importing libraires\n",
        "import tensorflow as tf\n",
        "from keras.preprocessing.image import ImageDataGenerator"
      ]
    },
    {
      "cell_type": "code",
      "source": [
        "#Data Preprocessing\n",
        "train_datagen = ImageDataGenerator(\n",
        "      rescale = 1./255,\n",
        "      shear_range = 0.2,\n",
        "      zoom_range = 0.2,\n",
        "      horizontal_flip = True)"
      ],
      "metadata": {
        "id": "R3j_UcEKqS4k"
      },
      "execution_count": 2,
      "outputs": []
    },
    {
      "cell_type": "code",
      "source": [
        "#preprocessing for training data\n",
        "train_generator = train_datagen.flow_from_directory(\n",
        "        '/content/drive/MyDrive/Dataset/train',\n",
        "        target_size=(64,64),\n",
        "        batch_size=32,\n",
        "        class_mode='binary')"
      ],
      "metadata": {
        "id": "5W41d0MSrZ3i",
        "colab": {
          "base_uri": "https://localhost:8080/",
          "height": 0
        },
        "outputId": "ee225b65-e1ef-4411-bc92-24948f0bfb24"
      },
      "execution_count": 3,
      "outputs": [
        {
          "output_type": "stream",
          "name": "stdout",
          "text": [
            "Found 480 images belonging to 2 classes.\n"
          ]
        }
      ]
    },
    {
      "cell_type": "code",
      "source": [
        "#preprocessing for testing_data\n",
        "test_datagen = ImageDataGenerator(rescale=1./255)\n",
        "validation_generator = test_datagen.flow_from_directory(\n",
        "            '/content/drive/MyDrive/Dataset/test',\n",
        "         target_size=(64,64),\n",
        "         batch_size=32,\n",
        "         class_mode='binary')"
      ],
      "metadata": {
        "id": "MVnC7AiRlZyw",
        "colab": {
          "base_uri": "https://localhost:8080/",
          "height": 0
        },
        "outputId": "717695c8-f67f-4b5b-8a90-38a92a9962f3"
      },
      "execution_count": 4,
      "outputs": [
        {
          "output_type": "stream",
          "name": "stdout",
          "text": [
            "Found 200 images belonging to 2 classes.\n"
          ]
        }
      ]
    },
    {
      "cell_type": "code",
      "source": [
        "#Building the CNN\n",
        "cnn = tf.keras.models.Sequential()\n",
        "\n",
        "#Convolution1\n",
        "cnn.add(tf.keras.layers.Conv2D(filters = 32,kernel_size =3,activation = 'relu',input_shape=[64,64,3]))\n",
        "#pooling1\n",
        "cnn.add(tf.keras.layers.MaxPool2D(pool_size=2,strides=2))\n"
      ],
      "metadata": {
        "id": "yjWkf3vAbwYH"
      },
      "execution_count": 5,
      "outputs": []
    },
    {
      "cell_type": "code",
      "source": [
        "#Convoluion2\n",
        "cnn.add(tf.keras.layers.Conv2D(filters=32,kernel_size=3,activation=\"relu\"))\n",
        "#Pooling2\n",
        "cnn.add(tf.keras.layers.MaxPool2D(pool_size=2,strides=2))"
      ],
      "metadata": {
        "id": "XW86kK_CerMr"
      },
      "execution_count": 6,
      "outputs": []
    },
    {
      "cell_type": "code",
      "source": [
        "#Flattening\n",
        "\n",
        "cnn.add(tf.keras.layers.Flatten())"
      ],
      "metadata": {
        "id": "GHvdHALofLu8"
      },
      "execution_count": 7,
      "outputs": []
    },
    {
      "cell_type": "code",
      "source": [
        "#Full Connection(Dense Layer)\n",
        "cnn.add(tf.keras.layers.Dense(units=128,activation='relu'))"
      ],
      "metadata": {
        "id": "DgsjRftqfZTQ"
      },
      "execution_count": 8,
      "outputs": []
    },
    {
      "cell_type": "code",
      "source": [
        "#Output Layer\n",
        "cnn.add(tf.keras.layers.Dense(units=1,activation='sigmoid'))"
      ],
      "metadata": {
        "id": "d6pIEuWOfquE"
      },
      "execution_count": 9,
      "outputs": []
    },
    {
      "cell_type": "code",
      "source": [
        "#Compiling the model\n",
        "cnn.compile(optimizer='adam',metrics=['accuracy'],loss='binary_crossentropy')"
      ],
      "metadata": {
        "id": "igJGza8Cf8JW"
      },
      "execution_count": 10,
      "outputs": []
    },
    {
      "cell_type": "code",
      "source": [
        "#Training the model\n",
        "history = cnn.fit(x=train_generator,validation_data = validation_generator,epochs=30\n",
        "                  )\n",
        "print(history)"
      ],
      "metadata": {
        "colab": {
          "base_uri": "https://localhost:8080/",
          "height": 0
        },
        "id": "iguDzVdugcrG",
        "outputId": "bb849b06-d497-4109-99ba-ed1157e53836"
      },
      "execution_count": 13,
      "outputs": [
        {
          "output_type": "stream",
          "name": "stdout",
          "text": [
            "Epoch 1/30\n",
            "15/15 [==============================] - 58s 4s/step - loss: 0.6916 - accuracy: 0.5229 - val_loss: 0.6924 - val_accuracy: 0.5100\n",
            "Epoch 2/30\n",
            "15/15 [==============================] - 17s 1s/step - loss: 0.6860 - accuracy: 0.5646 - val_loss: 0.6865 - val_accuracy: 0.5250\n",
            "Epoch 3/30\n",
            "15/15 [==============================] - 15s 974ms/step - loss: 0.6753 - accuracy: 0.5854 - val_loss: 0.6845 - val_accuracy: 0.5750\n",
            "Epoch 4/30\n",
            "15/15 [==============================] - 15s 1s/step - loss: 0.6513 - accuracy: 0.6271 - val_loss: 0.7024 - val_accuracy: 0.5500\n",
            "Epoch 5/30\n",
            "15/15 [==============================] - 17s 1s/step - loss: 0.6344 - accuracy: 0.6521 - val_loss: 0.7618 - val_accuracy: 0.5100\n",
            "Epoch 6/30\n",
            "15/15 [==============================] - 16s 1s/step - loss: 0.6228 - accuracy: 0.6625 - val_loss: 0.6744 - val_accuracy: 0.5900\n",
            "Epoch 7/30\n",
            "15/15 [==============================] - 16s 1s/step - loss: 0.6225 - accuracy: 0.6583 - val_loss: 0.6795 - val_accuracy: 0.5300\n",
            "Epoch 8/30\n",
            "15/15 [==============================] - 16s 1s/step - loss: 0.6167 - accuracy: 0.6438 - val_loss: 0.7426 - val_accuracy: 0.5300\n",
            "Epoch 9/30\n",
            "15/15 [==============================] - 17s 1s/step - loss: 0.6082 - accuracy: 0.6750 - val_loss: 0.6740 - val_accuracy: 0.6200\n",
            "Epoch 10/30\n",
            "15/15 [==============================] - 15s 1s/step - loss: 0.5698 - accuracy: 0.7104 - val_loss: 0.6569 - val_accuracy: 0.6650\n",
            "Epoch 11/30\n",
            "15/15 [==============================] - 17s 1s/step - loss: 0.5393 - accuracy: 0.7104 - val_loss: 0.6581 - val_accuracy: 0.6550\n",
            "Epoch 12/30\n",
            "15/15 [==============================] - 17s 1s/step - loss: 0.5601 - accuracy: 0.6979 - val_loss: 0.6624 - val_accuracy: 0.5950\n",
            "Epoch 13/30\n",
            "15/15 [==============================] - 16s 1s/step - loss: 0.5360 - accuracy: 0.7437 - val_loss: 0.6791 - val_accuracy: 0.6450\n",
            "Epoch 14/30\n",
            "15/15 [==============================] - 20s 1s/step - loss: 0.5014 - accuracy: 0.7375 - val_loss: 0.7161 - val_accuracy: 0.5700\n",
            "Epoch 15/30\n",
            "15/15 [==============================] - 17s 1s/step - loss: 0.5040 - accuracy: 0.7479 - val_loss: 0.6676 - val_accuracy: 0.6600\n",
            "Epoch 16/30\n",
            "15/15 [==============================] - 15s 1s/step - loss: 0.4466 - accuracy: 0.7896 - val_loss: 0.7021 - val_accuracy: 0.6750\n",
            "Epoch 17/30\n",
            "15/15 [==============================] - 16s 1s/step - loss: 0.4363 - accuracy: 0.8083 - val_loss: 0.6370 - val_accuracy: 0.6850\n",
            "Epoch 18/30\n",
            "15/15 [==============================] - 17s 1s/step - loss: 0.4195 - accuracy: 0.8083 - val_loss: 0.6652 - val_accuracy: 0.6950\n",
            "Epoch 19/30\n",
            "15/15 [==============================] - 15s 996ms/step - loss: 0.3847 - accuracy: 0.8333 - val_loss: 0.6607 - val_accuracy: 0.6900\n",
            "Epoch 20/30\n",
            "15/15 [==============================] - 16s 1s/step - loss: 0.4036 - accuracy: 0.8188 - val_loss: 0.7108 - val_accuracy: 0.6950\n",
            "Epoch 21/30\n",
            "15/15 [==============================] - 16s 1s/step - loss: 0.3997 - accuracy: 0.7875 - val_loss: 0.8898 - val_accuracy: 0.6350\n",
            "Epoch 22/30\n",
            "15/15 [==============================] - 17s 1s/step - loss: 0.3940 - accuracy: 0.8417 - val_loss: 0.7003 - val_accuracy: 0.6800\n",
            "Epoch 23/30\n",
            "15/15 [==============================] - 15s 1000ms/step - loss: 0.3613 - accuracy: 0.8313 - val_loss: 0.7780 - val_accuracy: 0.6700\n",
            "Epoch 24/30\n",
            "15/15 [==============================] - 16s 1s/step - loss: 0.3617 - accuracy: 0.8333 - val_loss: 0.8221 - val_accuracy: 0.6300\n",
            "Epoch 25/30\n",
            "15/15 [==============================] - 15s 1s/step - loss: 0.3752 - accuracy: 0.8292 - val_loss: 0.7784 - val_accuracy: 0.6650\n",
            "Epoch 26/30\n",
            "15/15 [==============================] - 17s 1s/step - loss: 0.3137 - accuracy: 0.8708 - val_loss: 0.7430 - val_accuracy: 0.6850\n",
            "Epoch 27/30\n",
            "15/15 [==============================] - 15s 1s/step - loss: 0.2996 - accuracy: 0.8771 - val_loss: 0.7361 - val_accuracy: 0.7200\n",
            "Epoch 28/30\n",
            "15/15 [==============================] - 15s 1s/step - loss: 0.2962 - accuracy: 0.8917 - val_loss: 0.8439 - val_accuracy: 0.6900\n",
            "Epoch 29/30\n",
            "15/15 [==============================] - 17s 1s/step - loss: 0.3083 - accuracy: 0.8542 - val_loss: 0.8229 - val_accuracy: 0.6650\n",
            "Epoch 30/30\n",
            "15/15 [==============================] - 15s 1s/step - loss: 0.2442 - accuracy: 0.9104 - val_loss: 0.8301 - val_accuracy: 0.6950\n",
            "<keras.callbacks.History object at 0x7ba9f9f65e10>\n"
          ]
        }
      ]
    },
    {
      "cell_type": "code",
      "source": [
        "#For predicting single data\n",
        "import numpy as np\n",
        "import keras.utils as image\n",
        "test_image = image.load_img(\"/content/drive/MyDrive/Dataset/predict/cat1.jpg\",target_size=(64,64))\n",
        "test_image.show()\n",
        "test_image = image.img_to_array(test_image)\n",
        "test_image = np.expand_dims(test_image,axis=0)\n",
        "result = cnn.predict(test_image)\n",
        "train_generator.class_indices\n",
        "if result[0][0] ==1:\n",
        "  prediction = \"Dog\"\n",
        "else:\n",
        "  prediction= \"Cat\"\n",
        "\n",
        "prediction"
      ],
      "metadata": {
        "colab": {
          "base_uri": "https://localhost:8080/",
          "height": 116
        },
        "id": "bE4GVI2Gg_Ct",
        "outputId": "662ab7cd-81c5-416a-d7de-ea039d856eed"
      },
      "execution_count": 14,
      "outputs": [
        {
          "output_type": "display_data",
          "data": {
            "text/plain": [
              "<PIL.Image.Image image mode=RGB size=64x64 at 0x7BA9F9F66A70>"
            ],
            "image/png": "[encoded data removed]"
          },
          "metadata": {}
        },
        {
          "output_type": "stream",
          "name": "stdout",
          "text": [
            "1/1 [==============================] - 0s 119ms/step\n"
          ]
        },
        {
          "output_type": "execute_result",
          "data": {
            "text/plain": [
              "'Cat'"
            ],
            "application/vnd.google.colaboratory.intrinsic+json": {
              "type": "string"
            }
          },
          "metadata": {},
          "execution_count": 14
        }
      ]
    },
    {
      "cell_type": "code",
      "source": [
        "#To know the parameters of history after training the model\n",
        "print(history.history.keys())"
      ],
      "metadata": {
        "colab": {
          "base_uri": "https://localhost:8080/",
          "height": 0
        },
        "id": "G5S0bUYMrfLZ",
        "outputId": "a462635d-138d-4452-a3c0-e330f00415ba"
      },
      "execution_count": 15,
      "outputs": [
        {
          "output_type": "stream",
          "name": "stdout",
          "text": [
            "dict_keys(['loss', 'accuracy', 'val_loss', 'val_accuracy'])\n"
          ]
        }
      ]
    },
    {
      "cell_type": "code",
      "source": [
        "#Graphical Representation\n",
        "import matplotlib.pyplot as plt\n",
        "plt.plot(history.history['accuracy'])\n",
        "plt.plot(history.history['val_loss'])\n",
        "plt.plot(history.history['val_accuracy'])\n"
      ],
      "metadata": {
        "colab": {
          "base_uri": "https://localhost:8080/",
          "height": 447
        },
        "id": "p6gVYj8sj0JA",
        "outputId": "b4db52ab-d624-4618-8066-1ab2d47f2d1f"
      },
      "execution_count": 16,
      "outputs": [
        {
          "output_type": "execute_result",
          "data": {
            "text/plain": [
              "[<matplotlib.lines.Line2D at 0x7ba9f56714e0>]"
            ]
          },
          "metadata": {},
          "execution_count": 16
        },
        {
          "output_type": "display_data",
          "data": {
            "text/plain": [
              "<Figure size 640x480 with 1 Axes>"
            ],
            "image/png": "[encoded data removed]"
          },
          "metadata": {}
        }
      ]
    },
    {
      "cell_type": "code",
      "source": [],
      "metadata": {
        "id": "InMBD3xGty_O"
      },
      "execution_count": null,
      "outputs": []
    }
  ]
}